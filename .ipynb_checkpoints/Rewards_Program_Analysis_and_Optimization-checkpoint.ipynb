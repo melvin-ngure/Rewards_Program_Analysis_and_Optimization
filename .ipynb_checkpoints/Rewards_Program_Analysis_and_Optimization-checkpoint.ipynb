{
 "cells": [
  {
   "cell_type": "markdown",
   "metadata": {
    "id": "a42kZdVkNsY9"
   },
   "source": [
    "# Mentorship Sessions Data Optimization for Rewards Program Evaluation"
   ]
  },
  {
   "cell_type": "markdown",
   "metadata": {
    "id": "xD-XyKaSMtet"
   },
   "source": [
    "## Task 1 : Data Cleaning"
   ]
  },
  {
   "cell_type": "code",
   "execution_count": 1,
   "metadata": {
    "id": "V26SS7HxJWUf"
   },
   "outputs": [],
   "source": [
    "# Importing relevant libraries\n",
    "import pandas as pd\n",
    "import numpy as np"
   ]
  },
  {
   "cell_type": "code",
   "execution_count": 2,
   "metadata": {
    "colab": {
     "base_uri": "https://localhost:8080/",
     "height": 321
    },
    "id": "Npcwoq71J3AA",
    "outputId": "e987a640-3cda-440f-a718-ab7392b36e11"
   },
   "outputs": [
    {
     "data": {
      "text/html": [
       "<div>\n",
       "<style scoped>\n",
       "    .dataframe tbody tr th:only-of-type {\n",
       "        vertical-align: middle;\n",
       "    }\n",
       "\n",
       "    .dataframe tbody tr th {\n",
       "        vertical-align: top;\n",
       "    }\n",
       "\n",
       "    .dataframe thead th {\n",
       "        text-align: right;\n",
       "    }\n",
       "</style>\n",
       "<table border=\"1\" class=\"dataframe\">\n",
       "  <thead>\n",
       "    <tr style=\"text-align: right;\">\n",
       "      <th></th>\n",
       "      <th>UID</th>\n",
       "      <th>Mentor_ID</th>\n",
       "      <th>Mentor_Name</th>\n",
       "      <th>Mentee_Name</th>\n",
       "      <th>Session_Number</th>\n",
       "      <th>Session_Duration_Min</th>\n",
       "      <th>Job_Info_Completed</th>\n",
       "      <th>Session_Date</th>\n",
       "      <th>Points_Awarded</th>\n",
       "    </tr>\n",
       "  </thead>\n",
       "  <tbody>\n",
       "    <tr>\n",
       "      <th>0</th>\n",
       "      <td>2001.0</td>\n",
       "      <td>1003.0</td>\n",
       "      <td>Sarah Clark</td>\n",
       "      <td>Bob Brown</td>\n",
       "      <td>1.0</td>\n",
       "      <td>40.0</td>\n",
       "      <td>Yes</td>\n",
       "      <td>2023-01-01</td>\n",
       "      <td>NaN</td>\n",
       "    </tr>\n",
       "    <tr>\n",
       "      <th>1</th>\n",
       "      <td>2002.0</td>\n",
       "      <td>1003.0</td>\n",
       "      <td>Emily Davis</td>\n",
       "      <td>Carol White</td>\n",
       "      <td>2.0</td>\n",
       "      <td>30.0</td>\n",
       "      <td>Yes</td>\n",
       "      <td>2023-01-08</td>\n",
       "      <td>NaN</td>\n",
       "    </tr>\n",
       "    <tr>\n",
       "      <th>2</th>\n",
       "      <td>2003.0</td>\n",
       "      <td>1005.0</td>\n",
       "      <td>James Wilson</td>\n",
       "      <td>Jane Smith</td>\n",
       "      <td>2.0</td>\n",
       "      <td>40.0</td>\n",
       "      <td>Yes</td>\n",
       "      <td>2023-01-15</td>\n",
       "      <td>NaN</td>\n",
       "    </tr>\n",
       "    <tr>\n",
       "      <th>3</th>\n",
       "      <td>4.0</td>\n",
       "      <td>1005.0</td>\n",
       "      <td>David Thompson</td>\n",
       "      <td>NaN</td>\n",
       "      <td>2.0</td>\n",
       "      <td>50.0</td>\n",
       "      <td>Yes</td>\n",
       "      <td>2023-01-22</td>\n",
       "      <td>NaN</td>\n",
       "    </tr>\n",
       "    <tr>\n",
       "      <th>4</th>\n",
       "      <td>2001.0</td>\n",
       "      <td>1004.0</td>\n",
       "      <td>Emily Davis</td>\n",
       "      <td>Bob Brown</td>\n",
       "      <td>1.0</td>\n",
       "      <td>30.0</td>\n",
       "      <td>No</td>\n",
       "      <td>2023-01-29</td>\n",
       "      <td>NaN</td>\n",
       "    </tr>\n",
       "  </tbody>\n",
       "</table>\n",
       "</div>"
      ],
      "text/plain": [
       "      UID  Mentor_ID     Mentor_Name  Mentee_Name  Session_Number  \\\n",
       "0  2001.0     1003.0     Sarah Clark    Bob Brown             1.0   \n",
       "1  2002.0     1003.0     Emily Davis  Carol White             2.0   \n",
       "2  2003.0     1005.0    James Wilson   Jane Smith             2.0   \n",
       "3     4.0     1005.0  David Thompson          NaN             2.0   \n",
       "4  2001.0     1004.0     Emily Davis    Bob Brown             1.0   \n",
       "\n",
       "   Session_Duration_Min Job_Info_Completed Session_Date  Points_Awarded  \n",
       "0                  40.0                Yes   2023-01-01             NaN  \n",
       "1                  30.0                Yes   2023-01-08             NaN  \n",
       "2                  40.0                Yes   2023-01-15             NaN  \n",
       "3                  50.0                Yes   2023-01-22             NaN  \n",
       "4                  30.0                 No   2023-01-29             NaN  "
      ]
     },
     "execution_count": 2,
     "metadata": {},
     "output_type": "execute_result"
    }
   ],
   "source": [
    "# Loading the Data set\n",
    "rewards_data = pd.read_excel(\"_Data Sets Reward_Program_Assignment_Input_v6 - TA.xlsx\", parse_dates=True)\n",
    "rewards_data.head()"
   ]
  },
  {
   "cell_type": "code",
   "execution_count": 3,
   "metadata": {
    "id": "_jKQQ47H1sWW"
   },
   "outputs": [
    {
     "name": "stdout",
     "output_type": "stream",
     "text": [
      "Number of duplicate rows: 0\n",
      "Duplicate Rows:\n",
      "Empty DataFrame\n",
      "Columns: [UID, Mentor_ID, Mentor_Name, Mentee_Name, Session_Number, Session_Duration_Min, Job_Info_Completed, Session_Date, Points_Awarded]\n",
      "Index: []\n"
     ]
    }
   ],
   "source": [
    "# Checking for duplicated records\n",
    "duplicate_rows = rewards_data[rewards_data.duplicated()]\n",
    "\n",
    "# Print the number of duplicate rows\n",
    "print(f\"Number of duplicate rows: {len(duplicate_rows)}\")\n",
    "\n",
    "# Display the duplicate rows\n",
    "print(\"Duplicate Rows:\")\n",
    "print(duplicate_rows)"
   ]
  },
  {
   "cell_type": "code",
   "execution_count": 4,
   "metadata": {
    "id": "-jQvX_WxwSJ0"
   },
   "outputs": [
    {
     "data": {
      "text/plain": [
       "(109, 9)"
      ]
     },
     "execution_count": 4,
     "metadata": {},
     "output_type": "execute_result"
    }
   ],
   "source": [
    "rewards_data.shape"
   ]
  },
  {
   "cell_type": "code",
   "execution_count": 5,
   "metadata": {
    "id": "zwvjB8f8Kixw"
   },
   "outputs": [
    {
     "data": {
      "text/plain": [
       "UID                       1\n",
       "Mentor_ID                 1\n",
       "Mentor_Name               0\n",
       "Mentee_Name               2\n",
       "Session_Number            1\n",
       "Session_Duration_Min      2\n",
       "Job_Info_Completed        1\n",
       "Session_Date              1\n",
       "Points_Awarded          109\n",
       "dtype: int64"
      ]
     },
     "execution_count": 5,
     "metadata": {},
     "output_type": "execute_result"
    }
   ],
   "source": [
    "# Checking for nulls\n",
    "rewards_data.isnull().sum()"
   ]
  },
  {
   "cell_type": "code",
   "execution_count": 6,
   "metadata": {
    "id": "kiT50mrsLdZT"
   },
   "outputs": [
    {
     "name": "stdout",
     "output_type": "stream",
     "text": [
      "UID                       0\n",
      "Mentor_ID                 0\n",
      "Mentor_Name               0\n",
      "Mentee_Name               0\n",
      "Session_Number            0\n",
      "Session_Duration_Min      0\n",
      "Job_Info_Completed        0\n",
      "Session_Date              0\n",
      "Points_Awarded          106\n",
      "dtype: int64\n"
     ]
    },
    {
     "data": {
      "text/html": [
       "<div>\n",
       "<style scoped>\n",
       "    .dataframe tbody tr th:only-of-type {\n",
       "        vertical-align: middle;\n",
       "    }\n",
       "\n",
       "    .dataframe tbody tr th {\n",
       "        vertical-align: top;\n",
       "    }\n",
       "\n",
       "    .dataframe thead th {\n",
       "        text-align: right;\n",
       "    }\n",
       "</style>\n",
       "<table border=\"1\" class=\"dataframe\">\n",
       "  <thead>\n",
       "    <tr style=\"text-align: right;\">\n",
       "      <th></th>\n",
       "      <th>UID</th>\n",
       "      <th>Mentor_ID</th>\n",
       "      <th>Mentor_Name</th>\n",
       "      <th>Mentee_Name</th>\n",
       "      <th>Session_Number</th>\n",
       "      <th>Session_Duration_Min</th>\n",
       "      <th>Job_Info_Completed</th>\n",
       "      <th>Session_Date</th>\n",
       "      <th>Points_Awarded</th>\n",
       "    </tr>\n",
       "  </thead>\n",
       "  <tbody>\n",
       "    <tr>\n",
       "      <th>0</th>\n",
       "      <td>2001.0</td>\n",
       "      <td>1003.0</td>\n",
       "      <td>Sarah Clark</td>\n",
       "      <td>Bob Brown</td>\n",
       "      <td>1.0</td>\n",
       "      <td>40.0</td>\n",
       "      <td>Yes</td>\n",
       "      <td>2023-01-01</td>\n",
       "      <td>NaN</td>\n",
       "    </tr>\n",
       "    <tr>\n",
       "      <th>1</th>\n",
       "      <td>2002.0</td>\n",
       "      <td>1003.0</td>\n",
       "      <td>Emily Davis</td>\n",
       "      <td>Carol White</td>\n",
       "      <td>2.0</td>\n",
       "      <td>30.0</td>\n",
       "      <td>Yes</td>\n",
       "      <td>2023-01-08</td>\n",
       "      <td>NaN</td>\n",
       "    </tr>\n",
       "    <tr>\n",
       "      <th>2</th>\n",
       "      <td>2003.0</td>\n",
       "      <td>1005.0</td>\n",
       "      <td>James Wilson</td>\n",
       "      <td>Jane Smith</td>\n",
       "      <td>2.0</td>\n",
       "      <td>40.0</td>\n",
       "      <td>Yes</td>\n",
       "      <td>2023-01-15</td>\n",
       "      <td>NaN</td>\n",
       "    </tr>\n",
       "    <tr>\n",
       "      <th>4</th>\n",
       "      <td>2001.0</td>\n",
       "      <td>1004.0</td>\n",
       "      <td>Emily Davis</td>\n",
       "      <td>Bob Brown</td>\n",
       "      <td>1.0</td>\n",
       "      <td>30.0</td>\n",
       "      <td>No</td>\n",
       "      <td>2023-01-29</td>\n",
       "      <td>NaN</td>\n",
       "    </tr>\n",
       "    <tr>\n",
       "      <th>5</th>\n",
       "      <td>2003.0</td>\n",
       "      <td>1002.0</td>\n",
       "      <td>David Thompson</td>\n",
       "      <td>Jane Smith</td>\n",
       "      <td>2.0</td>\n",
       "      <td>50.0</td>\n",
       "      <td>No</td>\n",
       "      <td>2023-02-05</td>\n",
       "      <td>NaN</td>\n",
       "    </tr>\n",
       "  </tbody>\n",
       "</table>\n",
       "</div>"
      ],
      "text/plain": [
       "      UID  Mentor_ID     Mentor_Name  Mentee_Name  Session_Number  \\\n",
       "0  2001.0     1003.0     Sarah Clark    Bob Brown             1.0   \n",
       "1  2002.0     1003.0     Emily Davis  Carol White             2.0   \n",
       "2  2003.0     1005.0    James Wilson   Jane Smith             2.0   \n",
       "4  2001.0     1004.0     Emily Davis    Bob Brown             1.0   \n",
       "5  2003.0     1002.0  David Thompson   Jane Smith             2.0   \n",
       "\n",
       "   Session_Duration_Min Job_Info_Completed Session_Date  Points_Awarded  \n",
       "0                  40.0                Yes   2023-01-01             NaN  \n",
       "1                  30.0                Yes   2023-01-08             NaN  \n",
       "2                  40.0                Yes   2023-01-15             NaN  \n",
       "4                  30.0                 No   2023-01-29             NaN  \n",
       "5                  50.0                 No   2023-02-05             NaN  "
      ]
     },
     "execution_count": 6,
     "metadata": {},
     "output_type": "execute_result"
    }
   ],
   "source": [
    "# Dropping null values excluding those in 'Points Awarded' column\n",
    "\n",
    "columns_to_exclude = ['Points_Awarded']\n",
    "rewards_data_cleaned = rewards_data.dropna(subset=[col for col in rewards_data.columns if col not in columns_to_exclude])\n",
    "\n",
    "print(rewards_data_cleaned.isnull().sum())\n",
    "\n",
    "rewards_data_cleaned.head()"
   ]
  },
  {
   "cell_type": "code",
   "execution_count": 7,
   "metadata": {
    "id": "AJQSv8Q0KJXF"
   },
   "outputs": [],
   "source": [
    "# Dropping UID and Mentor_ID columns\n",
    "\n",
    "rewards_data_cleaned = rewards_data_cleaned.drop('UID', axis=1)\n",
    "rewards_data_cleaned = rewards_data_cleaned.drop('Mentor_ID', axis=1)"
   ]
  },
  {
   "cell_type": "code",
   "execution_count": 8,
   "metadata": {},
   "outputs": [
    {
     "name": "stdout",
     "output_type": "stream",
     "text": [
      "<class 'pandas.core.frame.DataFrame'>\n",
      "Int64Index: 106 entries, 0 to 108\n",
      "Data columns (total 7 columns):\n",
      " #   Column                Non-Null Count  Dtype  \n",
      "---  ------                --------------  -----  \n",
      " 0   Mentor_Name           106 non-null    object \n",
      " 1   Mentee_Name           106 non-null    object \n",
      " 2   Session_Number        106 non-null    float64\n",
      " 3   Session_Duration_Min  106 non-null    float64\n",
      " 4   Job_Info_Completed    106 non-null    object \n",
      " 5   Session_Date          106 non-null    object \n",
      " 6   Points_Awarded        0 non-null      float64\n",
      "dtypes: float64(3), object(4)\n",
      "memory usage: 6.6+ KB\n"
     ]
    }
   ],
   "source": [
    "rewards_data_cleaned.info()"
   ]
  },
  {
   "cell_type": "code",
   "execution_count": 9,
   "metadata": {
    "id": "L_W78dCKfFIg"
   },
   "outputs": [
    {
     "name": "stdout",
     "output_type": "stream",
     "text": [
      "<class 'pandas.core.frame.DataFrame'>\n",
      "Int64Index: 106 entries, 0 to 108\n",
      "Data columns (total 7 columns):\n",
      " #   Column                Non-Null Count  Dtype         \n",
      "---  ------                --------------  -----         \n",
      " 0   Mentor_Name           106 non-null    object        \n",
      " 1   Mentee_Name           106 non-null    object        \n",
      " 2   Session_Number        106 non-null    int32         \n",
      " 3   Session_Duration_Min  106 non-null    int32         \n",
      " 4   Job_Info_Completed    106 non-null    object        \n",
      " 5   Session_Date          106 non-null    datetime64[ns]\n",
      " 6   Points_Awarded        0 non-null      float64       \n",
      "dtypes: datetime64[ns](1), float64(1), int32(2), object(3)\n",
      "memory usage: 5.8+ KB\n"
     ]
    }
   ],
   "source": [
    "# Assigning appropriate datatypes to various columns\n",
    "\n",
    "rewards_data_cleaned['Mentor_Name'] = rewards_data_cleaned['Mentor_Name'].astype(str)\n",
    "rewards_data_cleaned['Mentee_Name'] = rewards_data_cleaned['Mentee_Name'].astype(str)\n",
    "rewards_data_cleaned['Session_Number'] = rewards_data_cleaned['Session_Number'].round().astype(int)\n",
    "rewards_data_cleaned['Session_Duration_Min'] = rewards_data_cleaned['Session_Duration_Min'].round().astype(int)\n",
    "rewards_data_cleaned['Session_Date'] = pd.to_datetime(rewards_data_cleaned['Session_Date'])\n",
    "\n",
    "rewards_data_cleaned.info()"
   ]
  },
  {
   "cell_type": "code",
   "execution_count": 10,
   "metadata": {
    "id": "V9HVQdXavtgm"
   },
   "outputs": [
    {
     "data": {
      "text/html": [
       "<div>\n",
       "<style scoped>\n",
       "    .dataframe tbody tr th:only-of-type {\n",
       "        vertical-align: middle;\n",
       "    }\n",
       "\n",
       "    .dataframe tbody tr th {\n",
       "        vertical-align: top;\n",
       "    }\n",
       "\n",
       "    .dataframe thead th {\n",
       "        text-align: right;\n",
       "    }\n",
       "</style>\n",
       "<table border=\"1\" class=\"dataframe\">\n",
       "  <thead>\n",
       "    <tr style=\"text-align: right;\">\n",
       "      <th></th>\n",
       "      <th>Mentor_Name</th>\n",
       "      <th>Mentee_Name</th>\n",
       "      <th>Session_Number</th>\n",
       "      <th>Session_Duration_Min</th>\n",
       "      <th>Job_Info_Completed</th>\n",
       "      <th>Session_Date</th>\n",
       "      <th>Points_Awarded</th>\n",
       "    </tr>\n",
       "  </thead>\n",
       "  <tbody>\n",
       "    <tr>\n",
       "      <th>0</th>\n",
       "      <td>Sarah Clark</td>\n",
       "      <td>Bob Brown</td>\n",
       "      <td>1</td>\n",
       "      <td>40</td>\n",
       "      <td>Yes</td>\n",
       "      <td>2023-01-01</td>\n",
       "      <td>NaN</td>\n",
       "    </tr>\n",
       "    <tr>\n",
       "      <th>1</th>\n",
       "      <td>Emily Davis</td>\n",
       "      <td>Carol White</td>\n",
       "      <td>2</td>\n",
       "      <td>30</td>\n",
       "      <td>Yes</td>\n",
       "      <td>2023-01-08</td>\n",
       "      <td>NaN</td>\n",
       "    </tr>\n",
       "    <tr>\n",
       "      <th>2</th>\n",
       "      <td>James Wilson</td>\n",
       "      <td>Jane Smith</td>\n",
       "      <td>2</td>\n",
       "      <td>40</td>\n",
       "      <td>Yes</td>\n",
       "      <td>2023-01-15</td>\n",
       "      <td>NaN</td>\n",
       "    </tr>\n",
       "    <tr>\n",
       "      <th>4</th>\n",
       "      <td>Emily Davis</td>\n",
       "      <td>Bob Brown</td>\n",
       "      <td>1</td>\n",
       "      <td>30</td>\n",
       "      <td>No</td>\n",
       "      <td>2023-01-29</td>\n",
       "      <td>NaN</td>\n",
       "    </tr>\n",
       "    <tr>\n",
       "      <th>5</th>\n",
       "      <td>David Thompson</td>\n",
       "      <td>Jane Smith</td>\n",
       "      <td>2</td>\n",
       "      <td>50</td>\n",
       "      <td>No</td>\n",
       "      <td>2023-02-05</td>\n",
       "      <td>NaN</td>\n",
       "    </tr>\n",
       "  </tbody>\n",
       "</table>\n",
       "</div>"
      ],
      "text/plain": [
       "      Mentor_Name  Mentee_Name  Session_Number  Session_Duration_Min  \\\n",
       "0     Sarah Clark    Bob Brown               1                    40   \n",
       "1     Emily Davis  Carol White               2                    30   \n",
       "2    James Wilson   Jane Smith               2                    40   \n",
       "4     Emily Davis    Bob Brown               1                    30   \n",
       "5  David Thompson   Jane Smith               2                    50   \n",
       "\n",
       "  Job_Info_Completed Session_Date  Points_Awarded  \n",
       "0                Yes   2023-01-01             NaN  \n",
       "1                Yes   2023-01-08             NaN  \n",
       "2                Yes   2023-01-15             NaN  \n",
       "4                 No   2023-01-29             NaN  \n",
       "5                 No   2023-02-05             NaN  "
      ]
     },
     "execution_count": 10,
     "metadata": {},
     "output_type": "execute_result"
    }
   ],
   "source": [
    "rewards_data_cleaned.head()"
   ]
  },
  {
   "cell_type": "code",
   "execution_count": 11,
   "metadata": {},
   "outputs": [
    {
     "name": "stdout",
     "output_type": "stream",
     "text": [
      "      Mentor_Name  Mentee_Name  Session_Number  Session_Duration_Min  \\\n",
      "0     Sarah Clark    Bob Brown               1                    40   \n",
      "1     Emily Davis  Carol White               2                    30   \n",
      "2    James Wilson   Jane Smith               2                    40   \n",
      "4     Emily Davis    Bob Brown               1                    30   \n",
      "5  David Thompson   Jane Smith               2                    50   \n",
      "\n",
      "  Job_Info_Completed Session_Date  Points_Awarded  Mentor_Unique_ID  \n",
      "0                Yes   2023-01-01             NaN                 5  \n",
      "1                Yes   2023-01-08             NaN                 2  \n",
      "2                Yes   2023-01-15             NaN                 3  \n",
      "4                 No   2023-01-29             NaN                 2  \n",
      "5                 No   2023-02-05             NaN                 1  \n"
     ]
    }
   ],
   "source": [
    "# Creating a new column with uniqueIDs for each Mentor\n",
    "\n",
    "rewards_data_cleaned['Mentor_Unique_ID'] = rewards_data_cleaned.groupby('Mentor_Name').ngroup() + 1\n",
    "print(rewards_data_cleaned.head())"
   ]
  },
  {
   "cell_type": "code",
   "execution_count": 12,
   "metadata": {},
   "outputs": [
    {
     "name": "stdout",
     "output_type": "stream",
     "text": [
      "      Mentor_Name  Mentee_Name  Session_Number  Session_Duration_Min  \\\n",
      "0     Sarah Clark    Bob Brown               1                    40   \n",
      "1     Emily Davis  Carol White               2                    30   \n",
      "2    James Wilson   Jane Smith               2                    40   \n",
      "4     Emily Davis    Bob Brown               1                    30   \n",
      "5  David Thompson   Jane Smith               2                    50   \n",
      "\n",
      "  Job_Info_Completed Session_Date  Points_Awarded  Mentor_Unique_ID  \\\n",
      "0                Yes   2023-01-01             NaN                 5   \n",
      "1                Yes   2023-01-08             NaN                 2   \n",
      "2                Yes   2023-01-15             NaN                 3   \n",
      "4                 No   2023-01-29             NaN                 2   \n",
      "5                 No   2023-02-05             NaN                 1   \n",
      "\n",
      "   Mentee_Unique_ID  \n",
      "0                 2  \n",
      "1                 3  \n",
      "2                 4  \n",
      "4                 2  \n",
      "5                 4  \n"
     ]
    }
   ],
   "source": [
    "# Creating a new column with uniqueIDs for each Mentee\n",
    "\n",
    "rewards_data_cleaned['Mentee_Unique_ID'] = rewards_data_cleaned.groupby('Mentee_Name').ngroup() + 1\n",
    "print(rewards_data_cleaned.head())"
   ]
  },
  {
   "cell_type": "code",
   "execution_count": 13,
   "metadata": {
    "id": "kww1TSHS3av1"
   },
   "outputs": [
    {
     "name": "stdout",
     "output_type": "stream",
     "text": [
      "      Mentor_Name  Mentee_Name  Session_Number  Session_Duration_Min  \\\n",
      "0     Sarah Clark    Bob Brown               1                    40   \n",
      "1     Emily Davis  Carol White               2                    30   \n",
      "2    James Wilson   Jane Smith               2                    40   \n",
      "4     Emily Davis    Bob Brown               1                    30   \n",
      "5  David Thompson   Jane Smith               2                    50   \n",
      "\n",
      "  Job_Info_Completed Session_Date  Points_Awarded  Mentor_Unique_ID  \\\n",
      "0                Yes   2023-01-01             NaN                 5   \n",
      "1                Yes   2023-01-08             NaN                 2   \n",
      "2                Yes   2023-01-15             NaN                 3   \n",
      "4                 No   2023-01-29             NaN                 2   \n",
      "5                 No   2023-02-05             NaN                 1   \n",
      "\n",
      "   Mentee_Unique_ID Unique_ID  \n",
      "0                 2       5_2  \n",
      "1                 3       2_3  \n",
      "2                 4       3_4  \n",
      "4                 2       2_2  \n",
      "5                 4       1_4  \n"
     ]
    }
   ],
   "source": [
    "# Creating a uniqueID relating each Mentor to a Mentee\n",
    "\n",
    "rewards_data_cleaned['Unique_ID'] = rewards_data_cleaned['Mentor_Unique_ID'].astype(str) + '_' + rewards_data_cleaned['Mentee_Unique_ID'].astype(str)\n",
    "print(rewards_data_cleaned.head())"
   ]
  },
  {
   "cell_type": "code",
   "execution_count": 14,
   "metadata": {
    "id": "YZ0sJ8gOKcSe"
   },
   "outputs": [
    {
     "data": {
      "text/html": [
       "<div>\n",
       "<style scoped>\n",
       "    .dataframe tbody tr th:only-of-type {\n",
       "        vertical-align: middle;\n",
       "    }\n",
       "\n",
       "    .dataframe tbody tr th {\n",
       "        vertical-align: top;\n",
       "    }\n",
       "\n",
       "    .dataframe thead th {\n",
       "        text-align: right;\n",
       "    }\n",
       "</style>\n",
       "<table border=\"1\" class=\"dataframe\">\n",
       "  <thead>\n",
       "    <tr style=\"text-align: right;\">\n",
       "      <th></th>\n",
       "      <th>Session_Number</th>\n",
       "      <th>Session_Duration_Min</th>\n",
       "      <th>Points_Awarded</th>\n",
       "      <th>Mentor_Unique_ID</th>\n",
       "      <th>Mentee_Unique_ID</th>\n",
       "    </tr>\n",
       "  </thead>\n",
       "  <tbody>\n",
       "    <tr>\n",
       "      <th>count</th>\n",
       "      <td>106.000000</td>\n",
       "      <td>106.000000</td>\n",
       "      <td>0.0</td>\n",
       "      <td>106.000000</td>\n",
       "      <td>106.000000</td>\n",
       "    </tr>\n",
       "    <tr>\n",
       "      <th>mean</th>\n",
       "      <td>1.481132</td>\n",
       "      <td>32.830189</td>\n",
       "      <td>NaN</td>\n",
       "      <td>2.915094</td>\n",
       "      <td>2.867925</td>\n",
       "    </tr>\n",
       "    <tr>\n",
       "      <th>std</th>\n",
       "      <td>0.502017</td>\n",
       "      <td>10.757475</td>\n",
       "      <td>NaN</td>\n",
       "      <td>1.374031</td>\n",
       "      <td>1.295233</td>\n",
       "    </tr>\n",
       "    <tr>\n",
       "      <th>min</th>\n",
       "      <td>1.000000</td>\n",
       "      <td>20.000000</td>\n",
       "      <td>NaN</td>\n",
       "      <td>1.000000</td>\n",
       "      <td>1.000000</td>\n",
       "    </tr>\n",
       "    <tr>\n",
       "      <th>25%</th>\n",
       "      <td>1.000000</td>\n",
       "      <td>20.000000</td>\n",
       "      <td>NaN</td>\n",
       "      <td>2.000000</td>\n",
       "      <td>2.000000</td>\n",
       "    </tr>\n",
       "    <tr>\n",
       "      <th>50%</th>\n",
       "      <td>1.000000</td>\n",
       "      <td>30.000000</td>\n",
       "      <td>NaN</td>\n",
       "      <td>3.000000</td>\n",
       "      <td>3.000000</td>\n",
       "    </tr>\n",
       "    <tr>\n",
       "      <th>75%</th>\n",
       "      <td>2.000000</td>\n",
       "      <td>40.000000</td>\n",
       "      <td>NaN</td>\n",
       "      <td>4.000000</td>\n",
       "      <td>4.000000</td>\n",
       "    </tr>\n",
       "    <tr>\n",
       "      <th>max</th>\n",
       "      <td>2.000000</td>\n",
       "      <td>50.000000</td>\n",
       "      <td>NaN</td>\n",
       "      <td>5.000000</td>\n",
       "      <td>5.000000</td>\n",
       "    </tr>\n",
       "  </tbody>\n",
       "</table>\n",
       "</div>"
      ],
      "text/plain": [
       "       Session_Number  Session_Duration_Min  Points_Awarded  Mentor_Unique_ID  \\\n",
       "count      106.000000            106.000000             0.0        106.000000   \n",
       "mean         1.481132             32.830189             NaN          2.915094   \n",
       "std          0.502017             10.757475             NaN          1.374031   \n",
       "min          1.000000             20.000000             NaN          1.000000   \n",
       "25%          1.000000             20.000000             NaN          2.000000   \n",
       "50%          1.000000             30.000000             NaN          3.000000   \n",
       "75%          2.000000             40.000000             NaN          4.000000   \n",
       "max          2.000000             50.000000             NaN          5.000000   \n",
       "\n",
       "       Mentee_Unique_ID  \n",
       "count        106.000000  \n",
       "mean           2.867925  \n",
       "std            1.295233  \n",
       "min            1.000000  \n",
       "25%            2.000000  \n",
       "50%            3.000000  \n",
       "75%            4.000000  \n",
       "max            5.000000  "
      ]
     },
     "execution_count": 14,
     "metadata": {},
     "output_type": "execute_result"
    }
   ],
   "source": [
    "# Exploring the descriptive statistics of the variables\n",
    "rewards_data_cleaned.describe()"
   ]
  },
  {
   "cell_type": "code",
   "execution_count": 15,
   "metadata": {
    "id": "4ZtXgzE67I4r"
   },
   "outputs": [],
   "source": [
    "# Export cleaned dataset in Excel format\n",
    "rewards_data_cleaned.to_excel('cleaned_rewards_data.xlsx', index=False)"
   ]
  },
  {
   "cell_type": "markdown",
   "metadata": {
    "id": "cBmVP5KU4ol0"
   },
   "source": [
    "### Task 2: Legacy Point Allocation"
   ]
  },
  {
   "cell_type": "code",
   "execution_count": 16,
   "metadata": {
    "id": "5SfR9ipfJvIb"
   },
   "outputs": [
    {
     "data": {
      "text/html": [
       "<div>\n",
       "<style scoped>\n",
       "    .dataframe tbody tr th:only-of-type {\n",
       "        vertical-align: middle;\n",
       "    }\n",
       "\n",
       "    .dataframe tbody tr th {\n",
       "        vertical-align: top;\n",
       "    }\n",
       "\n",
       "    .dataframe thead th {\n",
       "        text-align: right;\n",
       "    }\n",
       "</style>\n",
       "<table border=\"1\" class=\"dataframe\">\n",
       "  <thead>\n",
       "    <tr style=\"text-align: right;\">\n",
       "      <th></th>\n",
       "      <th>Unique_ID</th>\n",
       "      <th>Signup_Points</th>\n",
       "      <th>Two_Mentees_Points</th>\n",
       "      <th>Mentorship_Points</th>\n",
       "      <th>Total_Points</th>\n",
       "    </tr>\n",
       "  </thead>\n",
       "  <tbody>\n",
       "    <tr>\n",
       "      <th>0</th>\n",
       "      <td>5_2</td>\n",
       "      <td>250</td>\n",
       "      <td>1000</td>\n",
       "      <td>0</td>\n",
       "      <td>1250</td>\n",
       "    </tr>\n",
       "    <tr>\n",
       "      <th>1</th>\n",
       "      <td>2_3</td>\n",
       "      <td>250</td>\n",
       "      <td>1000</td>\n",
       "      <td>0</td>\n",
       "      <td>1250</td>\n",
       "    </tr>\n",
       "    <tr>\n",
       "      <th>2</th>\n",
       "      <td>3_4</td>\n",
       "      <td>250</td>\n",
       "      <td>1000</td>\n",
       "      <td>0</td>\n",
       "      <td>1250</td>\n",
       "    </tr>\n",
       "    <tr>\n",
       "      <th>3</th>\n",
       "      <td>2_2</td>\n",
       "      <td>250</td>\n",
       "      <td>1000</td>\n",
       "      <td>500</td>\n",
       "      <td>1750</td>\n",
       "    </tr>\n",
       "    <tr>\n",
       "      <th>4</th>\n",
       "      <td>1_4</td>\n",
       "      <td>250</td>\n",
       "      <td>1000</td>\n",
       "      <td>0</td>\n",
       "      <td>1250</td>\n",
       "    </tr>\n",
       "    <tr>\n",
       "      <th>...</th>\n",
       "      <td>...</td>\n",
       "      <td>...</td>\n",
       "      <td>...</td>\n",
       "      <td>...</td>\n",
       "      <td>...</td>\n",
       "    </tr>\n",
       "    <tr>\n",
       "      <th>101</th>\n",
       "      <td>4_3</td>\n",
       "      <td>250</td>\n",
       "      <td>1000</td>\n",
       "      <td>0</td>\n",
       "      <td>1250</td>\n",
       "    </tr>\n",
       "    <tr>\n",
       "      <th>102</th>\n",
       "      <td>4_1</td>\n",
       "      <td>250</td>\n",
       "      <td>1000</td>\n",
       "      <td>0</td>\n",
       "      <td>1250</td>\n",
       "    </tr>\n",
       "    <tr>\n",
       "      <th>103</th>\n",
       "      <td>4_4</td>\n",
       "      <td>250</td>\n",
       "      <td>1000</td>\n",
       "      <td>500</td>\n",
       "      <td>1750</td>\n",
       "    </tr>\n",
       "    <tr>\n",
       "      <th>104</th>\n",
       "      <td>4_3</td>\n",
       "      <td>250</td>\n",
       "      <td>1000</td>\n",
       "      <td>0</td>\n",
       "      <td>1250</td>\n",
       "    </tr>\n",
       "    <tr>\n",
       "      <th>105</th>\n",
       "      <td>4_4</td>\n",
       "      <td>250</td>\n",
       "      <td>1000</td>\n",
       "      <td>500</td>\n",
       "      <td>1750</td>\n",
       "    </tr>\n",
       "  </tbody>\n",
       "</table>\n",
       "<p>106 rows × 5 columns</p>\n",
       "</div>"
      ],
      "text/plain": [
       "    Unique_ID  Signup_Points  Two_Mentees_Points  Mentorship_Points  \\\n",
       "0         5_2            250                1000                  0   \n",
       "1         2_3            250                1000                  0   \n",
       "2         3_4            250                1000                  0   \n",
       "3         2_2            250                1000                500   \n",
       "4         1_4            250                1000                  0   \n",
       "..        ...            ...                 ...                ...   \n",
       "101       4_3            250                1000                  0   \n",
       "102       4_1            250                1000                  0   \n",
       "103       4_4            250                1000                500   \n",
       "104       4_3            250                1000                  0   \n",
       "105       4_4            250                1000                500   \n",
       "\n",
       "     Total_Points  \n",
       "0            1250  \n",
       "1            1250  \n",
       "2            1250  \n",
       "3            1750  \n",
       "4            1250  \n",
       "..            ...  \n",
       "101          1250  \n",
       "102          1250  \n",
       "103          1750  \n",
       "104          1250  \n",
       "105          1750  \n",
       "\n",
       "[106 rows x 5 columns]"
      ]
     },
     "execution_count": 16,
     "metadata": {},
     "output_type": "execute_result"
    }
   ],
   "source": [
    "# Assigning initial points for signing up (250 points)\n",
    "rewards_data_cleaned['Signup_Points'] = 250\n",
    "\n",
    "# Allocating 1000 points for mentors who have mentored at least 2 different mentees\n",
    "mentee_count = rewards_data_cleaned.groupby('Mentor_Unique_ID')['Mentee_Name'].nunique()\n",
    "mentors_with_two_mentees = mentee_count[mentee_count >= 2].index\n",
    "rewards_data_cleaned['Two_Mentees_Points'] = rewards_data_cleaned['Mentor_Unique_ID'].apply(lambda x: 1000 if x in mentors_with_two_mentees else 0)\n",
    "\n",
    "# Allocating 500 points for mentoring the same mentee for two sessions, meeting criteria\n",
    "# a. Sessions must be >= 30 minutes and\n",
    "# b. At least one session must have job info completed (\"Yes\")\n",
    "\n",
    "def allocate_points(group):\n",
    "    if len(group) >= 2:\n",
    "        if all(group['Session_Duration_Min'] >= 30) and any(group['Job_Info_Completed'] == 'Yes'):\n",
    "            return 500\n",
    "    return 0\n",
    "\n",
    "mentee_group = rewards_data_cleaned.groupby(['Mentor_Unique_ID', 'Mentee_Name']).apply(allocate_points).reset_index(name='Mentorship_Points')\n",
    "\n",
    "# Merging the mentorship points back to the main DataFrame\n",
    "rewards_data_cleaned = pd.merge(rewards_data_cleaned, mentee_group, on=['Mentor_Unique_ID', 'Mentee_Name'], how='left')\n",
    "\n",
    "# Calculating Total Points for each row\n",
    "rewards_data_cleaned['Total_Points'] = rewards_data_cleaned['Signup_Points'] + rewards_data_cleaned['Two_Mentees_Points'] + rewards_data_cleaned['Mentorship_Points']\n",
    "\n",
    "rewards_data_cleaned[['Unique_ID','Signup_Points', 'Two_Mentees_Points', 'Mentorship_Points', 'Total_Points']]\n"
   ]
  },
  {
   "cell_type": "code",
   "execution_count": 17,
   "metadata": {
    "id": "ueL6-g8qVSMA"
   },
   "outputs": [],
   "source": [
    "rewards_data_cleaned.to_excel('Mentor_Points_Allocation_Final.xlsx', index=False)"
   ]
  }
 ],
 "metadata": {
  "colab": {
   "provenance": []
  },
  "kernelspec": {
   "display_name": "Python 3 (ipykernel)",
   "language": "python",
   "name": "python3"
  },
  "language_info": {
   "codemirror_mode": {
    "name": "ipython",
    "version": 3
   },
   "file_extension": ".py",
   "mimetype": "text/x-python",
   "name": "python",
   "nbconvert_exporter": "python",
   "pygments_lexer": "ipython3",
   "version": "3.9.12"
  }
 },
 "nbformat": 4,
 "nbformat_minor": 1
}
